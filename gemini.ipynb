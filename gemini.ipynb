{
 "cells": [
  {
   "cell_type": "code",
   "execution_count": 4,
   "id": "0f44bd7f",
   "metadata": {},
   "outputs": [],
   "source": [
    "import random\n",
    "from sqlalchemy.orm import Session\n",
    "from datetime import datetime, timedelta\n",
    "from typing import Dict, Any, List\n",
    "from pydantic import BaseModel, ValidationError\n",
    "from google import genai\n",
    "from google.genai import types\n",
    "import json\n",
    "import time\n",
    "import os\n",
    "import random\n",
    "from dotenv import load_dotenv\n",
    "from google import genai\n",
    "from google.genai import types\n",
    "from pydantic import BaseModel\n",
    "import asyncio\n",
    "\n",
    "load_dotenv()\n",
    "\n",
    "\n",
    "\n",
    "class Theme(BaseModel):\n",
    "    title: str\n",
    "    tone: str\n",
    "    full_prompt: str\n",
    "    keyword: str\n",
    "\n",
    "class ThemeGenerate(BaseModel):\n",
    "    themes: Theme\n",
    "\n",
    "def generate_theme_title_and_story(campaign_title: str, insight: str, description: str, target_customer:str) -> List[tuple[str, str]]:\n",
    "    client = genai.Client(api_key=os.getenv(\"GEMINI_API_KEY\"))\n",
    "    \n",
    "    # Generate response using Gemini API (synchronous version)\n",
    "    response = client.models.generate_content(\n",
    "        model='gemini-2.0-flash',\n",
    "        contents=f\"Tạo 5 thương hiệu cho pages với các thông tin {insight} {target_customer}. Mỗi thương hiệu phải có title và keyword. Phải viết bằng tiếng việt, đầu ra ví dụ title: xin chao, keyword: #chuối, #táo, #cam\",\n",
    "        config=types.GenerateContentConfig(\n",
    "            response_mime_type='application/json',\n",
    "            response_schema=ThemeGenerate,\n",
    "            system_instruction=types.Part.from_text(text='hãy biến đổi thông tin đầu vào thành promt hoàn chỉnh theo cấu trúc gồm có title, tone, full_promt dựa trên {description}, ví dụ đầu ra sẽ như sau title: chiến dịch, tone: gần gũi, dễ thương, full_promt: bài viết với giọng văn gần gũi dễ thương dành cho trang facebook nội dung 1000 từ, keyword: #gymer #protein'),\n",
    "        ),\n",
    "    )\n",
    "    \n",
    "    # Extract the response\n",
    "    print(\"Generated 5 themes based on user prompt.\")\n",
    "    content = json.loads(response.text)\n",
    "    \n",
    "    # Validate and parse the response using Pydantic\n",
    "    themes_data = ThemeGenerate(**content)\n",
    "    \n",
    "    # Convert list of themes to list of tuples using dot notation for Pydantic model attributes\n",
    "    return themes_data"
   ]
  },
  {
   "cell_type": "code",
   "execution_count": 6,
   "id": "20f2c310",
   "metadata": {},
   "outputs": [
    {
     "name": "stdout",
     "output_type": "stream",
     "text": [
      "Generated 5 themes based on user prompt.\n"
     ]
    },
    {
     "data": {
      "text/plain": [
       "{'themes': {'title': 'Sức Mạnh Việt',\n",
       "  'tone': 'mạnh mẽ, truyền cảm hứng',\n",
       "  'full_prompt': 'Bài viết 1000 từ về hành trình chinh phục bản thân, vượt qua giới hạn thể chất và tinh thần của người Việt, với giọng văn mạnh mẽ và truyền cảm hứng. Tập trung vào sự kiên trì, ý chí và tinh thần đồng đội.',\n",
       "  'keyword': '#SứcMạnhViệt #VuotQuaGioiHan #KienTri'}}"
      ]
     },
     "execution_count": 6,
     "metadata": {},
     "output_type": "execute_result"
    }
   ],
   "source": [
    "a = generate_theme_title_and_story(campaign_title=\"xin chao\", \\\n",
    "    insight=\"123\", description=\"chiến dịch tạo sự đồng cảm với thương hiệu chuối chín\", target_customer=\"123\")\n",
    "a.model_dump()"
   ]
  }
 ],
 "metadata": {
  "kernelspec": {
   "display_name": "ab312",
   "language": "python",
   "name": "python3"
  },
  "language_info": {
   "codemirror_mode": {
    "name": "ipython",
    "version": 3
   },
   "file_extension": ".py",
   "mimetype": "text/x-python",
   "name": "python",
   "nbconvert_exporter": "python",
   "pygments_lexer": "ipython3",
   "version": "3.12.7"
  }
 },
 "nbformat": 4,
 "nbformat_minor": 5
}
